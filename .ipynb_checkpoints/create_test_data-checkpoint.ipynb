{
 "cells": [
  {
   "cell_type": "code",
   "execution_count": 1,
   "metadata": {},
   "outputs": [],
   "source": [
    "import numpy as np\n",
    "import pandas as pd\n",
    "from capacity import CapacityData\n",
    "from eis import EISData"
   ]
  },
  {
   "cell_type": "code",
   "execution_count": 2,
   "metadata": {},
   "outputs": [],
   "source": [
    "cells = ['25C05', '25C06', '25C07', '25C08']"
   ]
  },
  {
   "cell_type": "code",
   "execution_count": 3,
   "metadata": {},
   "outputs": [
    {
     "name": "stdout",
     "output_type": "stream",
     "text": [
      "No data found for cycle number: 276.0 in EIS data/EIS_state_V_25C05.txt\n",
      "No data found for cycle number: 277.0 in EIS data/EIS_state_V_25C05.txt\n",
      "No data found for cycle number: 278.0 in EIS data/EIS_state_V_25C05.txt\n",
      "No data found for cycle number: 279.0 in EIS data/EIS_state_V_25C05.txt\n",
      "No data found for cycle number: 280.0 in EIS data/EIS_state_V_25C05.txt\n",
      "No data found for cycle number: 281.0 in EIS data/EIS_state_V_25C05.txt\n",
      "No data found for cycle number: 282.0 in EIS data/EIS_state_V_25C05.txt\n",
      "No data found for cycle number: 283.0 in EIS data/EIS_state_V_25C05.txt\n",
      "No data found for cycle number: 284.0 in EIS data/EIS_state_V_25C05.txt\n",
      "No data found for cycle number: 285.0 in EIS data/EIS_state_V_25C05.txt\n",
      "No data found for cycle number: 286.0 in EIS data/EIS_state_V_25C05.txt\n",
      "No data found for cycle number: 287.0 in EIS data/EIS_state_V_25C05.txt\n",
      "No data found for cycle number: 288.0 in EIS data/EIS_state_V_25C05.txt\n",
      "No data found for cycle number: 289.0 in EIS data/EIS_state_V_25C05.txt\n",
      "No data found for cycle number: 290.0 in EIS data/EIS_state_V_25C05.txt\n",
      "No data found for cycle number: 291.0 in EIS data/EIS_state_V_25C05.txt\n",
      "No data found for cycle number: 292.0 in EIS data/EIS_state_V_25C05.txt\n",
      "No data found for cycle number: 293.0 in EIS data/EIS_state_V_25C05.txt\n",
      "No data found for cycle number: 294.0 in EIS data/EIS_state_V_25C05.txt\n",
      "No data found for cycle number: 295.0 in EIS data/EIS_state_V_25C05.txt\n",
      "No data found for cycle number: 296.0 in EIS data/EIS_state_V_25C05.txt\n",
      "No data found for cycle number: 297.0 in EIS data/EIS_state_V_25C05.txt\n",
      "No data found for cycle number: 298.0 in EIS data/EIS_state_V_25C05.txt\n",
      "No data found for cycle number: 299.0 in EIS data/EIS_state_V_25C05.txt\n",
      "No data found for cycle number: 300.0 in EIS data/EIS_state_V_25C05.txt\n",
      "No data found for cycle number: 301.0 in EIS data/EIS_state_V_25C05.txt\n",
      "No data found for cycle number: 302.0 in EIS data/EIS_state_V_25C05.txt\n",
      "No data found for cycle number: 303.0 in EIS data/EIS_state_V_25C05.txt\n",
      "No data found for cycle number: 304.0 in EIS data/EIS_state_V_25C05.txt\n",
      "No data found for cycle number: 305.0 in EIS data/EIS_state_V_25C05.txt\n",
      "No data found for cycle number: 306.0 in EIS data/EIS_state_V_25C05.txt\n",
      "No data found for cycle number: 307.0 in EIS data/EIS_state_V_25C05.txt\n",
      "No data found for cycle number: 308.0 in EIS data/EIS_state_V_25C05.txt\n",
      "No data found for cycle number: 309.0 in EIS data/EIS_state_V_25C05.txt\n",
      "No data found for cycle number: 310.0 in EIS data/EIS_state_V_25C05.txt\n",
      "No data found for cycle number: 311.0 in EIS data/EIS_state_V_25C05.txt\n",
      "No data found for cycle number: 312.0 in EIS data/EIS_state_V_25C05.txt\n",
      "No data found for cycle number: 313.0 in EIS data/EIS_state_V_25C05.txt\n",
      "No data found for cycle number: 314.0 in EIS data/EIS_state_V_25C05.txt\n",
      "No data found for cycle number: 315.0 in EIS data/EIS_state_V_25C05.txt\n",
      "No data found for cycle number: 316.0 in EIS data/EIS_state_V_25C05.txt\n",
      "No data found for cycle number: 317.0 in EIS data/EIS_state_V_25C05.txt\n",
      "No data found for cycle number: 318.0 in EIS data/EIS_state_V_25C05.txt\n",
      "No data found for cycle number: 319.0 in EIS data/EIS_state_V_25C05.txt\n",
      "No data found for cycle number: 320.0 in EIS data/EIS_state_V_25C05.txt\n",
      "No data found for cycle number: 321.0 in EIS data/EIS_state_V_25C05.txt\n",
      "No data found for cycle number: 322.0 in EIS data/EIS_state_V_25C05.txt\n",
      "No data found for cycle number: 323.0 in EIS data/EIS_state_V_25C05.txt\n",
      "No data found for cycle number: 324.0 in EIS data/EIS_state_V_25C05.txt\n",
      "No data found for cycle number: 325.0 in EIS data/EIS_state_V_25C05.txt\n",
      "No data found for cycle number: 326.0 in EIS data/EIS_state_V_25C05.txt\n",
      "No data found for cycle number: 327.0 in EIS data/EIS_state_V_25C05.txt\n",
      "No data found for cycle number: 328.0 in EIS data/EIS_state_V_25C05.txt\n",
      "No data found for cycle number: 141.0 in EIS data/EIS_state_V_25C07.txt\n",
      "No data found for cycle number: 142.0 in EIS data/EIS_state_V_25C07.txt\n",
      "No data found for cycle number: 143.0 in EIS data/EIS_state_V_25C07.txt\n",
      "No data found for cycle number: 144.0 in EIS data/EIS_state_V_25C07.txt\n",
      "No data found for cycle number: 145.0 in EIS data/EIS_state_V_25C07.txt\n",
      "No data found for cycle number: 146.0 in EIS data/EIS_state_V_25C07.txt\n",
      "No data found for cycle number: 147.0 in EIS data/EIS_state_V_25C07.txt\n"
     ]
    }
   ],
   "source": [
    "data = {\"EIS\": [], \"Capacity\": []}\n",
    "\n",
    "for cell in cells:\n",
    "    eis_data_path = f'EIS data/EIS_state_V_{cell}.txt'\n",
    "    capacity_data_path = f'Capacity data/Data_Capacity_{cell}.txt'\n",
    "    \n",
    "    eis_data = EISData(eis_data_path)\n",
    "    capacity_data = CapacityData(capacity_data_path)\n",
    "    \n",
    "    cycle_numbers = capacity_data.df['cycle number'].values\n",
    "    capacity = capacity_data.df['capacity (mAh)'].values\n",
    "    \n",
    "    eis_all_cycles = []\n",
    "    for cycle_number in cycle_numbers:\n",
    "        eis_data_for_cycle = eis_data.get_EIS_data_for_cycle(cycle_number)\n",
    "        eis_all_cycles.append(np.array(eis_data_for_cycle))\n",
    "\n",
    "    # Save to txt file in the desired format\n",
    "    with open(f'EIS_data_{cell}.txt', 'w') as f:\n",
    "        for array in eis_all_cycles:\n",
    "            values_str = ' '.join(f\"{value:.5f}\" for value in array)\n",
    "            f.write(values_str + '\\n')\n",
    "            \n",
    "        # Save to txt file in the desired format\n",
    "    with open(f'capacity{cell}.txt', 'w') as f:\n",
    "        np.savetxt(f, capacity)\n",
    "        f.write('\\n')  # Separate arrays with a newline"
   ]
  }
 ],
 "metadata": {
  "kernelspec": {
   "display_name": "Python 3 (ipykernel)",
   "language": "python",
   "name": "python3"
  },
  "language_info": {
   "codemirror_mode": {
    "name": "ipython",
    "version": 3
   },
   "file_extension": ".py",
   "mimetype": "text/x-python",
   "name": "python",
   "nbconvert_exporter": "python",
   "pygments_lexer": "ipython3",
   "version": "3.10.9"
  }
 },
 "nbformat": 4,
 "nbformat_minor": 4
}
