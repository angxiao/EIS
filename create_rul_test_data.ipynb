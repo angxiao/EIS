{
 "cells": [
  {
   "cell_type": "code",
   "execution_count": 1,
   "id": "3289b338",
   "metadata": {},
   "outputs": [],
   "source": [
    "import numpy as np\n",
    "import pandas as pd\n",
    "from capacity import CapacityData\n",
    "from eis import EISData"
   ]
  },
  {
   "cell_type": "code",
   "execution_count": 2,
   "id": "9d98f6e1",
   "metadata": {},
   "outputs": [],
   "source": [
    "cells = ['25C05', '25C06','25C07','25C08', '35C02', '45C02']\n",
    "\n",
    "file_paths = []\n",
    "\n",
    "for cell in cells:\n",
    "    file_path = f'Capacity data/Data_Capacity_{cell}.txt'\n",
    "    file_paths.append(file_path)"
   ]
  },
  {
   "cell_type": "code",
   "execution_count": 3,
   "id": "7a9f5340",
   "metadata": {},
   "outputs": [
    {
     "name": "stdout",
     "output_type": "stream",
     "text": [
      "99.0\n",
      "105.0\n",
      "45.0\n",
      "35.0\n",
      "152.0\n",
      "208.0\n"
     ]
    }
   ],
   "source": [
    "data = {\"EIS\": [], \"Capacity\": []}\n",
    "\n",
    "for cell in cells:\n",
    "    eis_data_path = f'EIS data/EIS_state_V_{cell}.txt'\n",
    "    capacity_data_path = f'Capacity data/Data_Capacity_{cell}.txt'\n",
    "    \n",
    "    eis_data = EISData(eis_data_path)\n",
    "    capacity_data = CapacityData(capacity_data_path, eol = 0.80)\n",
    "    \n",
    "    cycle_numbers = capacity_data.df['cycle number'].values\n",
    "    rul = capacity_data.df['rul'].values\n",
    "    print (rul[0])\n",
    "    \n",
    "    eis_all_cycles = []\n",
    "    for cycle_number in cycle_numbers:\n",
    "        eis_data_for_cycle = eis_data.get_EIS_data_for_cycle(cycle_number)\n",
    "        eis_all_cycles.append(np.array(eis_data_for_cycle))\n",
    "\n",
    "    # Save to txt file in the desired format\n",
    "    with open(f'RUL_prediction/EIS_data_{cell}.txt', 'w') as f:\n",
    "        for array in eis_all_cycles:\n",
    "            values_str = ' '.join(f\"{value:.5f}\" for value in array)\n",
    "            f.write(values_str + '\\n')\n",
    "            \n",
    "        # Save to txt file in the desired format\n",
    "    with open(f'RUL_prediction/rul{cell}.txt', 'w') as f:\n",
    "        np.savetxt(f, rul)\n",
    "        f.write('\\n')  # Separate arrays with a newline"
   ]
  }
 ],
 "metadata": {
  "kernelspec": {
   "display_name": "Python 3 (ipykernel)",
   "language": "python",
   "name": "python3"
  },
  "language_info": {
   "codemirror_mode": {
    "name": "ipython",
    "version": 3
   },
   "file_extension": ".py",
   "mimetype": "text/x-python",
   "name": "python",
   "nbconvert_exporter": "python",
   "pygments_lexer": "ipython3",
   "version": "3.10.9"
  }
 },
 "nbformat": 4,
 "nbformat_minor": 5
}
